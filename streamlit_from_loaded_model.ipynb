{
  "nbformat": 4,
  "nbformat_minor": 0,
  "metadata": {
    "colab": {
      "provenance": []
    },
    "kernelspec": {
      "name": "python3",
      "display_name": "Python 3"
    },
    "language_info": {
      "name": "python"
    }
  },
  "cells": [
    {
      "cell_type": "code",
      "source": [
        "#whole thing can run on google colab"
      ],
      "metadata": {
        "id": "eMQ9ykNl-BO5"
      },
      "execution_count": null,
      "outputs": []
    },
    {
      "cell_type": "code",
      "execution_count": null,
      "metadata": {
        "id": "qc3luApz96ES"
      },
      "outputs": [],
      "source": [
        "!pip install -q streamlit"
      ]
    },
    {
      "cell_type": "code",
      "source": [
        "# # from keras.layers.merge import concatenate\n",
        "import tensorflow as tf\n",
        "from tensorflow.keras.layers import Input, Lambda, Dense, Flatten\n",
        "from tensorflow.keras.models import Model\n",
        "# from tensorflow.keras.applications.vgg16 import VGG16\n",
        "from tensorflow.keras.preprocessing import image \n",
        "from tensorflow.keras.preprocessing.image import ImageDataGenerator, load_img\n",
        "from tensorflow.keras.models import Sequential \n",
        "import numpy as np\n",
        "from glob import glob\n",
        "import cv2\n",
        "from google.colab.patches import cv2_imshow\n",
        "from tensorflow.keras.applications.resnet50 import ResNet50\n",
        "from tensorflow.keras.applications import EfficientNetB0\n",
        "from keras.layers import Dense, GlobalAveragePooling2D\n",
        "from keras.models import Model\n",
        "from keras.optimizers import SGD\n",
        "import keras\n",
        "import os\n",
        "from google.colab.patches import cv2_imshow\n",
        "import matplotlib.pyplot as plt\n",
        "import PIL"
      ],
      "metadata": {
        "id": "ojvR3E0T-Jb4"
      },
      "execution_count": null,
      "outputs": []
    },
    {
      "cell_type": "code",
      "source": [
        "reconstructed_model = keras.models.load_model(\"h5_model.h5\")"
      ],
      "metadata": {
        "id": "0Au-qPgw-NPl"
      },
      "execution_count": null,
      "outputs": []
    },
    {
      "cell_type": "code",
      "source": [
        "%%writefile app3.py\n",
        "import streamlit as st\n",
        "import tensorflow as tf\n",
        "from tensorflow.keras.applications.imagenet_utils import decode_predictions\n",
        "import cv2\n",
        "from PIL import Image, ImageOps\n",
        "import numpy as np\n",
        "import matplotlib.pyplot as plt\n",
        " \n",
        "@st.cache(allow_output_mutation=True)\n",
        "def load_model():\n",
        "  model=tf.keras.models.load_model('/content/h5_model.h5')\n",
        "  return model\n",
        "with st.spinner('Model is being loaded..'):\n",
        "  model=load_model()\n",
        " \n",
        "st.write(\"\"\"\n",
        "         # Image Classification\n",
        "         \"\"\"\n",
        "         )\n",
        " \n",
        "file = st.file_uploader(\"Upload the image to be classified U0001F447\", type=[\"jpg\", \"png\"])\n",
        "st.set_option('deprecation.showfileUploaderEncoding', False)\n",
        " \n",
        "def upload_predict(upload_image, model):\n",
        "    \n",
        "        size = (120,120)    \n",
        "        image = ImageOps.fit(upload_image, size, Image.ANTIALIAS)\n",
        "        image = np.asarray(image)\n",
        "        img = cv2.cvtColor(image, cv2.COLOR_BGR2RGB)\n",
        "        img_resize = cv2.resize(img, dsize=(120, 120),interpolation=cv2.INTER_CUBIC)\n",
        "        \n",
        "        img_reshape = img_resize[np.newaxis,...]\n",
        "    \n",
        "        prediction = model.predict(img_reshape)\n",
        "        \n",
        "        \n",
        "        return prediction\n",
        "if file is None:\n",
        "    st.text(\"Please upload an image file\")\n",
        "else:\n",
        "    image = Image.open(file)\n",
        "    st.image(image, use_column_width=True)\n",
        "    predictions = upload_predict(image, model)\n",
        "    st.write(\"The prediction probabilities are: \", predictions)\n",
        "\n",
        "    # Pie chart, where the slices will be ordered and plotted counter-clockwise:\n",
        "    labels = 'CS', 'ED', 'FS', 'FNB', 'MS'\n",
        "\n",
        "    fig1, ax1 = plt.subplots()\n",
        "    ax1.pie(predictions.flatten(), labels=labels, autopct='%1.1f%%',\n",
        "            shadow=True, startangle=90)\n",
        "    ax1.axis('equal')  # Equal aspect ratio ensures that pie is drawn as a circle.\n",
        "\n",
        "    st.pyplot(fig1)"
      ],
      "metadata": {
        "id": "KoTACJ_I-QYH"
      },
      "execution_count": null,
      "outputs": []
    },
    {
      "cell_type": "code",
      "source": [
        "!pip install pyngrok==4.1.1"
      ],
      "metadata": {
        "id": "bhgbqJBQ-TEC"
      },
      "execution_count": null,
      "outputs": []
    },
    {
      "cell_type": "code",
      "source": [
        "from pyngrok import ngrok\n",
        "\n",
        "# collect the ngrok token from the below website, its free, just email address is required and then paste the token inside the \"\" below\n",
        "# https://ngrok.com/\n",
        "\n",
        "ngrok.set_auth_token(\"\") "
      ],
      "metadata": {
        "id": "6POuZTou-Vhs"
      },
      "execution_count": null,
      "outputs": []
    },
    {
      "cell_type": "code",
      "source": [
        "!nohup streamlit run app3.py --server.port 80 &\n",
        "url = ngrok.connect(port = \"80\")\n",
        "print(url)"
      ],
      "metadata": {
        "id": "j9N_EjCk-Xnq"
      },
      "execution_count": null,
      "outputs": []
    }
  ]
}